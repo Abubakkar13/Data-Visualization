{
 "cells": [
  {
   "cell_type": "code",
   "execution_count": 1,
   "metadata": {},
   "outputs": [
    {
     "data": {
      "application/vnd.jupyter.widget-view+json": {
       "model_id": "68c3fde52e8247238f217907df649768",
       "version_major": 2,
       "version_minor": 0
      },
      "text/plain": [
       "interactive(children=(IntSlider(value=10, description='x', max=30, min=-10), Output()), _dom_classes=('widget-…"
      ]
     },
     "metadata": {},
     "output_type": "display_data"
    }
   ],
   "source": [
    "from ipywidgets import interact\n",
    "\n",
    "def square(x):\n",
    "    return x * x\n",
    "\n",
    "w = interact(square, x=10);"
   ]
  },
  {
   "cell_type": "code",
   "execution_count": 4,
   "metadata": {},
   "outputs": [],
   "source": [
    "def friends(name, number):\n",
    "    return '{} has {} friends!'.format(name, number)"
   ]
  },
  {
   "cell_type": "code",
   "execution_count": 5,
   "metadata": {},
   "outputs": [
    {
     "data": {
      "application/vnd.jupyter.widget-view+json": {
       "model_id": "c6956ee54a9f4cf89f089b6bbfbdf2dc",
       "version_major": 2,
       "version_minor": 0
      },
      "text/plain": [
       "interactive(children=(Text(value='Sam', description='name'), Dropdown(description='number', options={'One': 1,…"
      ]
     },
     "metadata": {},
     "output_type": "display_data"
    }
   ],
   "source": [
    "interact(friends, name='Sam', number={'One': 1, 'Five': 5, 'Ten': 10});"
   ]
  },
  {
   "cell_type": "code",
   "execution_count": 2,
   "metadata": {},
   "outputs": [],
   "source": [
    "# from ipywidgets import IntSlider\n",
    "# from ipywidgets.embed import embed_minimal_html\n",
    "\n",
    "# slider = IntSlider(value=40)\n",
    "# embed_minimal_html('export.html', views=[slider], title='Widgets export')"
   ]
  },
  {
   "cell_type": "code",
   "execution_count": 25,
   "metadata": {},
   "outputs": [],
   "source": [
    "# import json\n",
    "\n",
    "# from ipywidgets import IntSlider\n",
    "# from ipywidgets.embed import embed_data\n",
    "\n",
    "# s1 = IntSlider(max=200, value=100)\n",
    "# s2 = IntSlider(value=40)\n",
    "# data = embed_data(views=[s1, s2])\n",
    "\n",
    "# html_template = \"\"\"\n",
    "# <html>\n",
    "#   <head>\n",
    "\n",
    "#     <title>Widget export</title>\n",
    "\n",
    "#     <!-- Load RequireJS, used by the IPywidgets for dependency management -->\n",
    "#     <script \n",
    "#       src=\"https://cdnjs.cloudflare.com/ajax/libs/require.js/2.3.4/require.min.js\" \n",
    "#       integrity=\"sha256-Ae2Vz/4ePdIu6ZyI/5ZGsYnb+m0JlOmKPjt6XZ9JJkA=\" \n",
    "#       crossorigin=\"anonymous\">\n",
    "#     </script>\n",
    "\n",
    "#     <!-- Load IPywidgets bundle for embedding. -->\n",
    "#     <script\n",
    "#       data-jupyter-widgets-cdn=\"https://cdn.jsdelivr.net/npm/\"\n",
    "#       src=\"https://unpkg.com/@jupyter-widgets/html-manager@*/dist/embed-amd.js\" \n",
    "#       crossorigin=\"anonymous\">\n",
    "#     </script>\n",
    "\n",
    "#     <!-- The state of all the widget models on the page -->\n",
    "#     <script type=\"application/vnd.jupyter.widget-state+json\">\n",
    "#       {manager_state}\n",
    "#     </script>\n",
    "#   </head>\n",
    "\n",
    "#   <body>\n",
    "\n",
    "#     <h1>Widget export</h1>\n",
    "\n",
    "#     <div id=\"first-slider-widget\">\n",
    "#       <!-- This script tag will be replaced by the view's DOM tree -->\n",
    "#       <script type=\"application/vnd.jupyter.widget-view+json\">\n",
    "#         {widget_views[0]}\n",
    "#       </script>\n",
    "#     </div>\n",
    "\n",
    "#     <hrule />\n",
    "\n",
    "#     <div id=\"second-slider-widget\">\n",
    "#       <!-- This script tag will be replaced by the view's DOM tree -->\n",
    "#       <script type=\"application/vnd.jupyter.widget-view+json\">\n",
    "#         {widget_views[1]}\n",
    "#       </script>\n",
    "#     </div>\n",
    "\n",
    "#   </body>\n",
    "# </html>\n",
    "# \"\"\"\n",
    "\n",
    "# manager_state = json.dumps(data['manager_state'])\n",
    "# widget_views = [json.dumps(view) for view in data['view_specs']]\n",
    "# rendered_template = html_template.format(manager_state=manager_state, widget_views=widget_views)\n",
    "# with open('export.html', 'w') as fp:\n",
    "#     fp.write(rendered_template)"
   ]
  }
 ],
 "metadata": {
  "kernelspec": {
   "display_name": "Python 3",
   "language": "python",
   "name": "python3"
  },
  "language_info": {
   "codemirror_mode": {
    "name": "ipython",
    "version": 3
   },
   "file_extension": ".py",
   "mimetype": "text/x-python",
   "name": "python",
   "nbconvert_exporter": "python",
   "pygments_lexer": "ipython3",
   "version": "3.7.0"
  }
 },
 "nbformat": 4,
 "nbformat_minor": 2
}
